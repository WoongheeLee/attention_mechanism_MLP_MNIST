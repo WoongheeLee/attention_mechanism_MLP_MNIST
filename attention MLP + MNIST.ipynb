{
 "cells": [
  {
   "cell_type": "code",
   "execution_count": 1,
   "metadata": {},
   "outputs": [],
   "source": [
    "import os\n",
    "os.environ['CUDA_VISIBLE_DEVICES'] = '0'"
   ]
  },
  {
   "cell_type": "code",
   "execution_count": 2,
   "metadata": {},
   "outputs": [
    {
     "name": "stderr",
     "output_type": "stream",
     "text": [
      "/usr/local/lib/python3.5/dist-packages/h5py/__init__.py:34: FutureWarning: Conversion of the second argument of issubdtype from `float` to `np.floating` is deprecated. In future, it will be treated as `np.float64 == np.dtype(float).type`.\n",
      "  from ._conv import register_converters as _register_converters\n",
      "Using TensorFlow backend.\n"
     ]
    }
   ],
   "source": [
    "import keras\n",
    "from keras.models import Model\n",
    "from keras.layers import Input,Dense,Conv2D,MaxPooling2D,Dropout,Flatten,Reshape\n",
    "import numpy as np\n",
    "from IPython.display import SVG\n",
    "from keras.utils.vis_utils import model_to_dot\n",
    "import matplotlib.pyplot as plt"
   ]
  },
  {
   "cell_type": "code",
   "execution_count": 3,
   "metadata": {},
   "outputs": [],
   "source": [
    "np.random.seed(7)"
   ]
  },
  {
   "cell_type": "code",
   "execution_count": 4,
   "metadata": {},
   "outputs": [
    {
     "name": "stdout",
     "output_type": "stream",
     "text": [
      "(60000, 784) (60000, 10)\n",
      "(10000, 784) (10000, 10)\n"
     ]
    }
   ],
   "source": [
    "(X_train, y_train),(X_test,y_test) = keras.datasets.mnist.load_data()\n",
    "\n",
    "X_train = np.divide(X_train,255.).reshape((len(X_train),28*28))\n",
    "X_test = np.divide(X_test,255.).reshape((len(X_test),28*28))\n",
    "\n",
    "y_temp = list()\n",
    "for i in range(y_train.shape[0]):\n",
    "    temp = np.zeros((10,))\n",
    "    temp[y_train[i]] = 1.\n",
    "    y_temp.append(temp)\n",
    "y_train = np.array(y_temp)\n",
    "\n",
    "y_temp = list()\n",
    "for i in range(y_test.shape[0]):\n",
    "    temp = np.zeros((10,))\n",
    "    temp[y_test[i]] = 1.\n",
    "    y_temp.append(temp)\n",
    "y_test = np.array(y_temp)\n",
    "\n",
    "del y_temp\n",
    "\n",
    "print(X_train.shape,y_train.shape)\n",
    "print(X_test.shape,y_test.shape)"
   ]
  },
  {
   "cell_type": "code",
   "execution_count": 5,
   "metadata": {},
   "outputs": [
    {
     "name": "stdout",
     "output_type": "stream",
     "text": [
      "input_vector (?, 784)\n",
      "\n",
      "attention_probs (?, 784)\n",
      "attention_mul (?, 784)\n",
      "\n",
      "output_class (?, 10)\n"
     ]
    }
   ],
   "source": [
    "input_vector = Input(shape=(784,))\n",
    "print('input_vector', input_vector.shape)\n",
    "\n",
    "attention_probs = Dense(784, activation='softmax')(input_vector)\n",
    "print('\\nattention_probs',attention_probs.shape)\n",
    "attention_mul = keras.layers.multiply([input_vector, attention_probs])\n",
    "print('attention_mul',attention_mul.shape)\n",
    "\n",
    "dense = Dense(512,activation='relu')(attention_mul)\n",
    "dense = Dense(512,activation='relu')(attention_mul)\n",
    "\n",
    "output_class = Dense(10, activation='softmax')(dense)\n",
    "print('\\noutput_class',output_class.shape)"
   ]
  },
  {
   "cell_type": "code",
   "execution_count": 6,
   "metadata": {},
   "outputs": [],
   "source": [
    "model = Model(input_vector,output_class)\n",
    "model.compile(loss='categorical_crossentropy', optimizer='adam', metrics=['acc'])"
   ]
  },
  {
   "cell_type": "code",
   "execution_count": 7,
   "metadata": {
    "scrolled": true
   },
   "outputs": [
    {
     "name": "stdout",
     "output_type": "stream",
     "text": [
      "__________________________________________________________________________________________________\n",
      "Layer (type)                    Output Shape         Param #     Connected to                     \n",
      "==================================================================================================\n",
      "input_1 (InputLayer)            (None, 784)          0                                            \n",
      "__________________________________________________________________________________________________\n",
      "dense_1 (Dense)                 (None, 784)          615440      input_1[0][0]                    \n",
      "__________________________________________________________________________________________________\n",
      "multiply_1 (Multiply)           (None, 784)          0           input_1[0][0]                    \n",
      "                                                                 dense_1[0][0]                    \n",
      "__________________________________________________________________________________________________\n",
      "dense_3 (Dense)                 (None, 512)          401920      multiply_1[0][0]                 \n",
      "__________________________________________________________________________________________________\n",
      "dense_4 (Dense)                 (None, 10)           5130        dense_3[0][0]                    \n",
      "==================================================================================================\n",
      "Total params: 1,022,490\n",
      "Trainable params: 1,022,490\n",
      "Non-trainable params: 0\n",
      "__________________________________________________________________________________________________\n",
      "None\n"
     ]
    },
    {
     "data": {
      "image/svg+xml": [
       "<svg height=\"337pt\" viewBox=\"0.00 0.00 164.00 337.00\" width=\"164pt\" xmlns=\"http://www.w3.org/2000/svg\" xmlns:xlink=\"http://www.w3.org/1999/xlink\">\n",
       "<g class=\"graph\" id=\"graph0\" transform=\"scale(1 1) rotate(0) translate(4 333)\">\n",
       "<title>G</title>\n",
       "<polygon fill=\"white\" points=\"-4,4 -4,-333 160,-333 160,4 -4,4\" stroke=\"none\"/>\n",
       "<!-- 140022676317184 -->\n",
       "<g class=\"node\" id=\"node1\"><title>140022676317184</title>\n",
       "<polygon fill=\"none\" points=\"27.5,-292.5 27.5,-328.5 152.5,-328.5 152.5,-292.5 27.5,-292.5\" stroke=\"black\"/>\n",
       "<text font-family=\"Times,serif\" font-size=\"14.00\" text-anchor=\"middle\" x=\"90\" y=\"-306.8\">input_1: InputLayer</text>\n",
       "</g>\n",
       "<!-- 140022676317576 -->\n",
       "<g class=\"node\" id=\"node2\"><title>140022676317576</title>\n",
       "<polygon fill=\"none\" points=\"0,-219.5 0,-255.5 102,-255.5 102,-219.5 0,-219.5\" stroke=\"black\"/>\n",
       "<text font-family=\"Times,serif\" font-size=\"14.00\" text-anchor=\"middle\" x=\"51\" y=\"-233.8\">dense_1: Dense</text>\n",
       "</g>\n",
       "<!-- 140022676317184&#45;&gt;140022676317576 -->\n",
       "<g class=\"edge\" id=\"edge1\"><title>140022676317184-&gt;140022676317576</title>\n",
       "<path d=\"M80.5592,-292.313C75.9604,-283.941 70.3336,-273.697 65.2282,-264.403\" fill=\"none\" stroke=\"black\"/>\n",
       "<polygon fill=\"black\" points=\"68.236,-262.609 60.3539,-255.529 62.1007,-265.979 68.236,-262.609\" stroke=\"black\"/>\n",
       "</g>\n",
       "<!-- 140022676317520 -->\n",
       "<g class=\"node\" id=\"node3\"><title>140022676317520</title>\n",
       "<polygon fill=\"none\" points=\"24,-146.5 24,-182.5 156,-182.5 156,-146.5 24,-146.5\" stroke=\"black\"/>\n",
       "<text font-family=\"Times,serif\" font-size=\"14.00\" text-anchor=\"middle\" x=\"90\" y=\"-160.8\">multiply_1: Multiply</text>\n",
       "</g>\n",
       "<!-- 140022676317184&#45;&gt;140022676317520 -->\n",
       "<g class=\"edge\" id=\"edge2\"><title>140022676317184-&gt;140022676317520</title>\n",
       "<path d=\"M98.7189,-292.162C103.375,-281.924 108.625,-268.549 111,-256 114.058,-239.842 114.058,-235.158 111,-219 109.293,-209.98 106.101,-200.534 102.711,-192.132\" fill=\"none\" stroke=\"black\"/>\n",
       "<polygon fill=\"black\" points=\"105.882,-190.645 98.7189,-182.838 99.45,-193.408 105.882,-190.645\" stroke=\"black\"/>\n",
       "</g>\n",
       "<!-- 140022676317576&#45;&gt;140022676317520 -->\n",
       "<g class=\"edge\" id=\"edge3\"><title>140022676317576-&gt;140022676317520</title>\n",
       "<path d=\"M60.4408,-219.313C65.0396,-210.941 70.6664,-200.697 75.7718,-191.403\" fill=\"none\" stroke=\"black\"/>\n",
       "<polygon fill=\"black\" points=\"78.8993,-192.979 80.6461,-182.529 72.764,-189.609 78.8993,-192.979\" stroke=\"black\"/>\n",
       "</g>\n",
       "<!-- 140022676319144 -->\n",
       "<g class=\"node\" id=\"node4\"><title>140022676319144</title>\n",
       "<polygon fill=\"none\" points=\"39,-73.5 39,-109.5 141,-109.5 141,-73.5 39,-73.5\" stroke=\"black\"/>\n",
       "<text font-family=\"Times,serif\" font-size=\"14.00\" text-anchor=\"middle\" x=\"90\" y=\"-87.8\">dense_3: Dense</text>\n",
       "</g>\n",
       "<!-- 140022676317520&#45;&gt;140022676319144 -->\n",
       "<g class=\"edge\" id=\"edge4\"><title>140022676317520-&gt;140022676319144</title>\n",
       "<path d=\"M90,-146.313C90,-138.289 90,-128.547 90,-119.569\" fill=\"none\" stroke=\"black\"/>\n",
       "<polygon fill=\"black\" points=\"93.5001,-119.529 90,-109.529 86.5001,-119.529 93.5001,-119.529\" stroke=\"black\"/>\n",
       "</g>\n",
       "<!-- 140022676484896 -->\n",
       "<g class=\"node\" id=\"node5\"><title>140022676484896</title>\n",
       "<polygon fill=\"none\" points=\"39,-0.5 39,-36.5 141,-36.5 141,-0.5 39,-0.5\" stroke=\"black\"/>\n",
       "<text font-family=\"Times,serif\" font-size=\"14.00\" text-anchor=\"middle\" x=\"90\" y=\"-14.8\">dense_4: Dense</text>\n",
       "</g>\n",
       "<!-- 140022676319144&#45;&gt;140022676484896 -->\n",
       "<g class=\"edge\" id=\"edge5\"><title>140022676319144-&gt;140022676484896</title>\n",
       "<path d=\"M90,-73.3129C90,-65.2895 90,-55.5475 90,-46.5691\" fill=\"none\" stroke=\"black\"/>\n",
       "<polygon fill=\"black\" points=\"93.5001,-46.5288 90,-36.5288 86.5001,-46.5289 93.5001,-46.5288\" stroke=\"black\"/>\n",
       "</g>\n",
       "</g>\n",
       "</svg>"
      ],
      "text/plain": [
       "<IPython.core.display.SVG object>"
      ]
     },
     "execution_count": 7,
     "metadata": {},
     "output_type": "execute_result"
    }
   ],
   "source": [
    "print(model.summary())\n",
    "SVG(model_to_dot(model).create(prog='dot',format='svg'))"
   ]
  },
  {
   "cell_type": "code",
   "execution_count": 8,
   "metadata": {},
   "outputs": [
    {
     "name": "stdout",
     "output_type": "stream",
     "text": [
      "Train on 54000 samples, validate on 6000 samples\n",
      "Epoch 1/100\n",
      "54000/54000 [==============================] - 4s 75us/step - loss: 2.1810 - acc: 0.3929 - val_loss: 1.7138 - val_acc: 0.7420\n",
      "Epoch 2/100\n",
      "54000/54000 [==============================] - 0s 9us/step - loss: 0.9463 - acc: 0.8039 - val_loss: 0.3946 - val_acc: 0.8982\n",
      "Epoch 3/100\n",
      "54000/54000 [==============================] - 0s 9us/step - loss: 0.3844 - acc: 0.8958 - val_loss: 0.2537 - val_acc: 0.9308\n",
      "Epoch 4/100\n",
      "54000/54000 [==============================] - 0s 9us/step - loss: 0.2889 - acc: 0.9212 - val_loss: 0.2140 - val_acc: 0.9420\n",
      "Epoch 5/100\n",
      "54000/54000 [==============================] - 0s 9us/step - loss: 0.2476 - acc: 0.9319 - val_loss: 0.1925 - val_acc: 0.9485\n",
      "Epoch 6/100\n",
      "54000/54000 [==============================] - 0s 9us/step - loss: 0.2190 - acc: 0.9394 - val_loss: 0.1778 - val_acc: 0.9527\n",
      "Epoch 7/100\n",
      "54000/54000 [==============================] - 0s 9us/step - loss: 0.1988 - acc: 0.9447 - val_loss: 0.1685 - val_acc: 0.9543\n",
      "Epoch 8/100\n",
      "54000/54000 [==============================] - 0s 9us/step - loss: 0.1844 - acc: 0.9485 - val_loss: 0.1639 - val_acc: 0.9545\n",
      "Epoch 9/100\n",
      "54000/54000 [==============================] - 0s 9us/step - loss: 0.1720 - acc: 0.9511 - val_loss: 0.1588 - val_acc: 0.9548\n",
      "Epoch 10/100\n",
      "54000/54000 [==============================] - 0s 9us/step - loss: 0.1614 - acc: 0.9533 - val_loss: 0.1570 - val_acc: 0.9563\n",
      "Epoch 11/100\n",
      "54000/54000 [==============================] - 0s 9us/step - loss: 0.1513 - acc: 0.9562 - val_loss: 0.1516 - val_acc: 0.9557\n",
      "Epoch 12/100\n",
      "54000/54000 [==============================] - 0s 9us/step - loss: 0.1411 - acc: 0.9596 - val_loss: 0.1477 - val_acc: 0.9585\n",
      "Epoch 13/100\n",
      "54000/54000 [==============================] - 0s 9us/step - loss: 0.1320 - acc: 0.9616 - val_loss: 0.1447 - val_acc: 0.9600\n",
      "Epoch 14/100\n",
      "54000/54000 [==============================] - 0s 9us/step - loss: 0.1253 - acc: 0.9632 - val_loss: 0.1427 - val_acc: 0.9608\n",
      "Epoch 15/100\n",
      "54000/54000 [==============================] - 0s 9us/step - loss: 0.1183 - acc: 0.9658 - val_loss: 0.1423 - val_acc: 0.9613\n",
      "Epoch 16/100\n",
      "54000/54000 [==============================] - 0s 9us/step - loss: 0.1117 - acc: 0.9675 - val_loss: 0.1410 - val_acc: 0.9608\n",
      "Epoch 17/100\n",
      "54000/54000 [==============================] - 0s 9us/step - loss: 0.1061 - acc: 0.9689 - val_loss: 0.1400 - val_acc: 0.9605\n",
      "Epoch 18/100\n",
      "54000/54000 [==============================] - 0s 9us/step - loss: 0.1003 - acc: 0.9711 - val_loss: 0.1397 - val_acc: 0.9602\n",
      "Epoch 19/100\n",
      "54000/54000 [==============================] - 0s 9us/step - loss: 0.0949 - acc: 0.9727 - val_loss: 0.1392 - val_acc: 0.9620\n",
      "Epoch 20/100\n",
      "54000/54000 [==============================] - 0s 9us/step - loss: 0.0911 - acc: 0.9736 - val_loss: 0.1364 - val_acc: 0.9617\n",
      "Epoch 21/100\n",
      "54000/54000 [==============================] - 0s 9us/step - loss: 0.0866 - acc: 0.9751 - val_loss: 0.1391 - val_acc: 0.9618\n",
      "Epoch 22/100\n",
      "54000/54000 [==============================] - 0s 9us/step - loss: 0.0826 - acc: 0.9761 - val_loss: 0.1367 - val_acc: 0.9637\n",
      "Epoch 23/100\n",
      "54000/54000 [==============================] - 0s 9us/step - loss: 0.0787 - acc: 0.9781 - val_loss: 0.1356 - val_acc: 0.9642\n",
      "Epoch 24/100\n",
      "54000/54000 [==============================] - 0s 9us/step - loss: 0.0753 - acc: 0.9789 - val_loss: 0.1396 - val_acc: 0.9633\n",
      "Epoch 25/100\n",
      "54000/54000 [==============================] - 0s 9us/step - loss: 0.0718 - acc: 0.9795 - val_loss: 0.1384 - val_acc: 0.9638\n",
      "Epoch 26/100\n",
      "54000/54000 [==============================] - 0s 9us/step - loss: 0.0687 - acc: 0.9804 - val_loss: 0.1375 - val_acc: 0.9642\n",
      "Epoch 27/100\n",
      "54000/54000 [==============================] - 0s 9us/step - loss: 0.0653 - acc: 0.9818 - val_loss: 0.1385 - val_acc: 0.9633\n",
      "Epoch 28/100\n",
      "54000/54000 [==============================] - 0s 9us/step - loss: 0.0624 - acc: 0.9827 - val_loss: 0.1390 - val_acc: 0.9642\n",
      "Epoch 29/100\n",
      "54000/54000 [==============================] - 0s 9us/step - loss: 0.0599 - acc: 0.9831 - val_loss: 0.1388 - val_acc: 0.9648\n",
      "Epoch 30/100\n",
      "54000/54000 [==============================] - 0s 9us/step - loss: 0.0573 - acc: 0.9842 - val_loss: 0.1382 - val_acc: 0.9652\n",
      "Epoch 31/100\n",
      "54000/54000 [==============================] - 0s 9us/step - loss: 0.0547 - acc: 0.9852 - val_loss: 0.1403 - val_acc: 0.9648\n",
      "Epoch 32/100\n",
      "54000/54000 [==============================] - 0s 9us/step - loss: 0.0522 - acc: 0.9858 - val_loss: 0.1433 - val_acc: 0.9652\n",
      "Epoch 33/100\n",
      "54000/54000 [==============================] - 0s 9us/step - loss: 0.0500 - acc: 0.9865 - val_loss: 0.1417 - val_acc: 0.9648\n",
      "Epoch 34/100\n",
      "54000/54000 [==============================] - 0s 9us/step - loss: 0.0479 - acc: 0.9868 - val_loss: 0.1426 - val_acc: 0.9655\n",
      "Epoch 35/100\n",
      "54000/54000 [==============================] - 0s 9us/step - loss: 0.0461 - acc: 0.9876 - val_loss: 0.1444 - val_acc: 0.9653\n",
      "Epoch 36/100\n",
      "54000/54000 [==============================] - 0s 9us/step - loss: 0.0440 - acc: 0.9879 - val_loss: 0.1466 - val_acc: 0.9648\n",
      "Epoch 37/100\n",
      "54000/54000 [==============================] - 0s 9us/step - loss: 0.0421 - acc: 0.9888 - val_loss: 0.1467 - val_acc: 0.9640\n",
      "Epoch 38/100\n",
      "54000/54000 [==============================] - 0s 9us/step - loss: 0.0403 - acc: 0.9889 - val_loss: 0.1458 - val_acc: 0.9640\n",
      "Epoch 39/100\n",
      "54000/54000 [==============================] - 0s 9us/step - loss: 0.0389 - acc: 0.9897 - val_loss: 0.1495 - val_acc: 0.9647\n",
      "Epoch 40/100\n",
      "54000/54000 [==============================] - 0s 9us/step - loss: 0.0371 - acc: 0.9902 - val_loss: 0.1490 - val_acc: 0.9643\n",
      "Epoch 41/100\n",
      "54000/54000 [==============================] - 0s 9us/step - loss: 0.0351 - acc: 0.9910 - val_loss: 0.1523 - val_acc: 0.9660\n",
      "Epoch 42/100\n",
      "54000/54000 [==============================] - 0s 9us/step - loss: 0.0344 - acc: 0.9907 - val_loss: 0.1541 - val_acc: 0.9640\n",
      "Epoch 43/100\n",
      "54000/54000 [==============================] - 0s 9us/step - loss: 0.0325 - acc: 0.9915 - val_loss: 0.1555 - val_acc: 0.9647\n",
      "Epoch 44/100\n",
      "54000/54000 [==============================] - 0s 9us/step - loss: 0.0311 - acc: 0.9917 - val_loss: 0.1597 - val_acc: 0.9635\n",
      "Epoch 45/100\n",
      "54000/54000 [==============================] - 0s 9us/step - loss: 0.0296 - acc: 0.9924 - val_loss: 0.1602 - val_acc: 0.9650\n",
      "Epoch 46/100\n",
      "54000/54000 [==============================] - 0s 9us/step - loss: 0.0280 - acc: 0.9930 - val_loss: 0.1620 - val_acc: 0.9630\n",
      "Epoch 47/100\n",
      "54000/54000 [==============================] - 0s 9us/step - loss: 0.0264 - acc: 0.9934 - val_loss: 0.1640 - val_acc: 0.9645\n",
      "Epoch 48/100\n",
      "54000/54000 [==============================] - 0s 9us/step - loss: 0.0253 - acc: 0.9939 - val_loss: 0.1658 - val_acc: 0.9640\n",
      "Epoch 49/100\n",
      "54000/54000 [==============================] - 0s 9us/step - loss: 0.0242 - acc: 0.9939 - val_loss: 0.1698 - val_acc: 0.9635\n",
      "Epoch 50/100\n",
      "54000/54000 [==============================] - 0s 9us/step - loss: 0.0236 - acc: 0.9943 - val_loss: 0.1682 - val_acc: 0.9648\n",
      "Epoch 51/100\n",
      "54000/54000 [==============================] - 0s 9us/step - loss: 0.0223 - acc: 0.9946 - val_loss: 0.1681 - val_acc: 0.9645\n",
      "Epoch 52/100\n",
      "54000/54000 [==============================] - 0s 9us/step - loss: 0.0207 - acc: 0.9952 - val_loss: 0.1731 - val_acc: 0.9635\n",
      "Epoch 53/100\n",
      "54000/54000 [==============================] - 0s 9us/step - loss: 0.0199 - acc: 0.9952 - val_loss: 0.1703 - val_acc: 0.9637\n",
      "Epoch 54/100\n",
      "54000/54000 [==============================] - 0s 9us/step - loss: 0.0190 - acc: 0.9955 - val_loss: 0.1724 - val_acc: 0.9638\n",
      "Epoch 55/100\n",
      "54000/54000 [==============================] - 0s 9us/step - loss: 0.0184 - acc: 0.9955 - val_loss: 0.1783 - val_acc: 0.9635\n",
      "Epoch 56/100\n",
      "54000/54000 [==============================] - 0s 9us/step - loss: 0.0173 - acc: 0.9959 - val_loss: 0.1811 - val_acc: 0.9647\n",
      "Epoch 57/100\n",
      "54000/54000 [==============================] - 0s 9us/step - loss: 0.0163 - acc: 0.9960 - val_loss: 0.1832 - val_acc: 0.9632\n",
      "Epoch 58/100\n",
      "54000/54000 [==============================] - 0s 9us/step - loss: 0.0155 - acc: 0.9965 - val_loss: 0.1834 - val_acc: 0.9633\n",
      "Epoch 59/100\n",
      "54000/54000 [==============================] - 0s 9us/step - loss: 0.0149 - acc: 0.9966 - val_loss: 0.1878 - val_acc: 0.9638\n",
      "Epoch 60/100\n"
     ]
    },
    {
     "name": "stdout",
     "output_type": "stream",
     "text": [
      "54000/54000 [==============================] - 0s 9us/step - loss: 0.0146 - acc: 0.9966 - val_loss: 0.1872 - val_acc: 0.9630\n",
      "Epoch 61/100\n",
      "54000/54000 [==============================] - 0s 9us/step - loss: 0.0136 - acc: 0.9970 - val_loss: 0.1892 - val_acc: 0.9630\n",
      "Epoch 62/100\n",
      "54000/54000 [==============================] - 0s 9us/step - loss: 0.0128 - acc: 0.9972 - val_loss: 0.1893 - val_acc: 0.9640\n",
      "Epoch 63/100\n",
      "54000/54000 [==============================] - 0s 9us/step - loss: 0.0121 - acc: 0.9974 - val_loss: 0.1907 - val_acc: 0.9630\n",
      "Epoch 64/100\n",
      "54000/54000 [==============================] - 0s 9us/step - loss: 0.0116 - acc: 0.9976 - val_loss: 0.1909 - val_acc: 0.9630\n",
      "Epoch 65/100\n",
      "54000/54000 [==============================] - 0s 9us/step - loss: 0.0107 - acc: 0.9977 - val_loss: 0.1955 - val_acc: 0.9643\n",
      "Epoch 66/100\n",
      "54000/54000 [==============================] - 0s 9us/step - loss: 0.0102 - acc: 0.9979 - val_loss: 0.1953 - val_acc: 0.9635\n",
      "Epoch 67/100\n",
      "54000/54000 [==============================] - 0s 9us/step - loss: 0.0100 - acc: 0.9979 - val_loss: 0.1981 - val_acc: 0.9635\n",
      "Epoch 68/100\n",
      "54000/54000 [==============================] - 0s 9us/step - loss: 0.0098 - acc: 0.9980 - val_loss: 0.1995 - val_acc: 0.9635\n",
      "Epoch 69/100\n",
      "54000/54000 [==============================] - 0s 9us/step - loss: 0.0095 - acc: 0.9979 - val_loss: 0.1970 - val_acc: 0.9633\n",
      "Epoch 70/100\n",
      "54000/54000 [==============================] - 0s 9us/step - loss: 0.0093 - acc: 0.9980 - val_loss: 0.2024 - val_acc: 0.9637\n",
      "Epoch 71/100\n",
      "54000/54000 [==============================] - 0s 9us/step - loss: 0.0085 - acc: 0.9982 - val_loss: 0.2051 - val_acc: 0.9623\n",
      "Epoch 72/100\n",
      "54000/54000 [==============================] - 0s 9us/step - loss: 0.0075 - acc: 0.9985 - val_loss: 0.2050 - val_acc: 0.9635\n",
      "Epoch 73/100\n",
      "54000/54000 [==============================] - 0s 9us/step - loss: 0.0074 - acc: 0.9985 - val_loss: 0.2072 - val_acc: 0.9633\n",
      "Epoch 74/100\n",
      "54000/54000 [==============================] - 0s 9us/step - loss: 0.0069 - acc: 0.9986 - val_loss: 0.2075 - val_acc: 0.9620\n",
      "Epoch 75/100\n",
      "54000/54000 [==============================] - 0s 9us/step - loss: 0.0064 - acc: 0.9986 - val_loss: 0.2135 - val_acc: 0.9617\n",
      "Epoch 76/100\n",
      "54000/54000 [==============================] - 0s 9us/step - loss: 0.0061 - acc: 0.9988 - val_loss: 0.2116 - val_acc: 0.9622\n",
      "Epoch 77/100\n",
      "54000/54000 [==============================] - 0s 9us/step - loss: 0.0059 - acc: 0.9988 - val_loss: 0.2165 - val_acc: 0.9615\n",
      "Epoch 78/100\n",
      "54000/54000 [==============================] - 0s 9us/step - loss: 0.0063 - acc: 0.9988 - val_loss: 0.2224 - val_acc: 0.9627\n",
      "Epoch 79/100\n",
      "54000/54000 [==============================] - 0s 9us/step - loss: 0.0076 - acc: 0.9983 - val_loss: 0.2206 - val_acc: 0.9623\n",
      "Epoch 80/100\n",
      "54000/54000 [==============================] - 0s 9us/step - loss: 0.0099 - acc: 0.9977 - val_loss: 0.2182 - val_acc: 0.9617\n",
      "Epoch 81/100\n",
      "54000/54000 [==============================] - 0s 9us/step - loss: 0.0148 - acc: 0.9960 - val_loss: 0.2161 - val_acc: 0.9648\n",
      "Epoch 82/100\n",
      "54000/54000 [==============================] - 0s 9us/step - loss: 0.0093 - acc: 0.9975 - val_loss: 0.2313 - val_acc: 0.9645\n",
      "Epoch 83/100\n",
      "54000/54000 [==============================] - 0s 9us/step - loss: 0.0081 - acc: 0.9980 - val_loss: 0.2244 - val_acc: 0.9635\n",
      "Epoch 84/100\n",
      "54000/54000 [==============================] - 0s 9us/step - loss: 0.0065 - acc: 0.9986 - val_loss: 0.2180 - val_acc: 0.9647\n",
      "Epoch 85/100\n",
      "54000/54000 [==============================] - 0s 9us/step - loss: 0.0048 - acc: 0.9991 - val_loss: 0.2174 - val_acc: 0.9637\n",
      "Epoch 86/100\n",
      "54000/54000 [==============================] - 0s 9us/step - loss: 0.0043 - acc: 0.9992 - val_loss: 0.2196 - val_acc: 0.9628\n",
      "Epoch 87/100\n",
      "54000/54000 [==============================] - 0s 9us/step - loss: 0.0040 - acc: 0.9992 - val_loss: 0.2194 - val_acc: 0.9632\n",
      "Epoch 88/100\n",
      "54000/54000 [==============================] - 0s 9us/step - loss: 0.0038 - acc: 0.9993 - val_loss: 0.2238 - val_acc: 0.9628\n",
      "Epoch 89/100\n",
      "54000/54000 [==============================] - 0s 9us/step - loss: 0.0036 - acc: 0.9993 - val_loss: 0.2215 - val_acc: 0.9632\n",
      "Epoch 90/100\n",
      "54000/54000 [==============================] - 0s 9us/step - loss: 0.0035 - acc: 0.9994 - val_loss: 0.2257 - val_acc: 0.9622\n",
      "Epoch 91/100\n",
      "54000/54000 [==============================] - 0s 9us/step - loss: 0.0034 - acc: 0.9994 - val_loss: 0.2264 - val_acc: 0.9628\n",
      "Epoch 92/100\n",
      "54000/54000 [==============================] - 0s 9us/step - loss: 0.0032 - acc: 0.9994 - val_loss: 0.2263 - val_acc: 0.9627\n",
      "Epoch 93/100\n",
      "54000/54000 [==============================] - 0s 9us/step - loss: 0.0032 - acc: 0.9994 - val_loss: 0.2306 - val_acc: 0.9627\n",
      "Epoch 94/100\n",
      "54000/54000 [==============================] - 0s 9us/step - loss: 0.0030 - acc: 0.9995 - val_loss: 0.2287 - val_acc: 0.9625\n",
      "Epoch 95/100\n",
      "54000/54000 [==============================] - 0s 9us/step - loss: 0.0029 - acc: 0.9995 - val_loss: 0.2327 - val_acc: 0.9622\n",
      "Epoch 96/100\n",
      "54000/54000 [==============================] - 0s 9us/step - loss: 0.0028 - acc: 0.9994 - val_loss: 0.2343 - val_acc: 0.9625\n",
      "Epoch 97/100\n",
      "54000/54000 [==============================] - 0s 9us/step - loss: 0.0028 - acc: 0.9995 - val_loss: 0.2332 - val_acc: 0.9618\n",
      "Epoch 98/100\n",
      "54000/54000 [==============================] - 1s 9us/step - loss: 0.0027 - acc: 0.9995 - val_loss: 0.2364 - val_acc: 0.9628\n",
      "Epoch 99/100\n",
      "54000/54000 [==============================] - 0s 9us/step - loss: 0.0026 - acc: 0.9996 - val_loss: 0.2345 - val_acc: 0.9622\n",
      "Epoch 100/100\n",
      "54000/54000 [==============================] - 0s 9us/step - loss: 0.0026 - acc: 0.9996 - val_loss: 0.2375 - val_acc: 0.9618\n"
     ]
    }
   ],
   "source": [
    "history = model.fit(X_train,y_train,batch_size=1024,epochs=100,verbose=1,validation_split=0.1)"
   ]
  },
  {
   "cell_type": "code",
   "execution_count": 9,
   "metadata": {},
   "outputs": [
    {
     "data": {
      "image/png": "[encoded data removed]",
      "text/plain": [
       "<matplotlib.figure.Figure at 0x7f59382cfc88>"
      ]
     },
     "metadata": {},
     "output_type": "display_data"
    }
   ],
   "source": [
    "plt.plot(history.history['loss'])\n",
    "plt.plot(history.history['val_loss'])\n",
    "plt.ylabel('loss')\n",
    "plt.xlabel('epoch')\n",
    "plt.legend(['train','valid'])\n",
    "plt.show()"
   ]
  },
  {
   "cell_type": "code",
   "execution_count": 10,
   "metadata": {},
   "outputs": [
    {
     "name": "stdout",
     "output_type": "stream",
     "text": [
      "(10000, 10)\n"
     ]
    }
   ],
   "source": [
    "y_pred = model.predict(X_test)\n",
    "print(y_pred.shape)"
   ]
  },
  {
   "cell_type": "code",
   "execution_count": 11,
   "metadata": {},
   "outputs": [
    {
     "name": "stdout",
     "output_type": "stream",
     "text": [
      "acc\n",
      "0.9621\n"
     ]
    }
   ],
   "source": [
    "print('acc')\n",
    "acc = 0\n",
    "for i in range(len(y_pred)):\n",
    "    if np.argmax(y_pred[i]) == np.argmax(y_test[i]):\n",
    "        acc += 1\n",
    "        \n",
    "print(acc / len(y_pred))"
   ]
  },
  {
   "cell_type": "code",
   "execution_count": 33,
   "metadata": {},
   "outputs": [],
   "source": [
    "attention_model = Model(input_vector, attention_probs)"
   ]
  },
  {
   "cell_type": "code",
   "execution_count": 34,
   "metadata": {
    "scrolled": false
   },
   "outputs": [],
   "source": [
    "y_att = attention_model.predict(X_test)"
   ]
  },
  {
   "cell_type": "code",
   "execution_count": 48,
   "metadata": {
    "scrolled": false
   },
   "outputs": [
    {
     "name": "stdout",
     "output_type": "stream",
     "text": [
      "7 7\n"
     ]
    },
    {
     "data": {
      "image/png": "[encoded data removed]",
      "text/plain": [
       "<matplotlib.figure.Figure at 0x7f56342c1588>"
      ]
     },
     "metadata": {},
     "output_type": "display_data"
    },
    {
     "data": {
      "image/png": "[encoded data removed]",
      "text/plain": [
       "<matplotlib.figure.Figure at 0x7f563426a208>"
      ]
     },
     "metadata": {},
     "output_type": "display_data"
    },
    {
     "name": "stdout",
     "output_type": "stream",
     "text": [
      "2 2\n"
     ]
    },
    {
     "data": {
      "image/png": "[encoded data removed]",
      "text/plain": [
       "<matplotlib.figure.Figure at 0x7f56342537f0>"
      ]
     },
     "metadata": {},
     "output_type": "display_data"
    },
    {
     "data": {
      "image/png": "[encoded data removed]",
      "text/plain": [
       "<matplotlib.figure.Figure at 0x7f563426a908>"
      ]
     },
     "metadata": {},
     "output_type": "display_data"
    },
    {
     "name": "stdout",
     "output_type": "stream",
     "text": [
      "1 1\n"
     ]
    },
    {
     "data": {
      "image/png": "[encoded data removed]",
      "text/plain": [
       "<matplotlib.figure.Figure at 0x7f563470ba20>"
      ]
     },
     "metadata": {},
     "output_type": "display_data"
    },
    {
     "data": {
      "image/png": "[encoded data removed]",
      "text/plain": [
       "<matplotlib.figure.Figure at 0x7f56347ef908>"
      ]
     },
     "metadata": {},
     "output_type": "display_data"
    },
    {
     "name": "stdout",
     "output_type": "stream",
     "text": [
      "0 0\n"
     ]
    },
    {
     "data": {
      "image/png": "[encoded data removed]",
      "text/plain": [
       "<matplotlib.figure.Figure at 0x7f593827f0b8>"
      ]
     },
     "metadata": {},
     "output_type": "display_data"
    },
    {
     "data": {
      "image/png": "[encoded data removed]",
      "text/plain": [
       "<matplotlib.figure.Figure at 0x7f5634a73550>"
      ]
     },
     "metadata": {},
     "output_type": "display_data"
    },
    {
     "name": "stdout",
     "output_type": "stream",
     "text": [
      "4 4\n"
     ]
    },
    {
     "data": {
      "image/png": "[encoded data removed]",
      "text/plain": [
       "<matplotlib.figure.Figure at 0x7f59f7fd3da0>"
      ]
     },
     "metadata": {},
     "output_type": "display_data"
    },
    {
     "data": {
      "image/png": "[encoded data removed]",
      "text/plain": [
       "<matplotlib.figure.Figure at 0x7f5634819dd8>"
      ]
     },
     "metadata": {},
     "output_type": "display_data"
    },
    {
     "name": "stdout",
     "output_type": "stream",
     "text": [
      "1 1\n"
     ]
    },
    {
     "data": {
      "image/png": "[encoded data removed]",
      "text/plain": [
       "<matplotlib.figure.Figure at 0x7f5634985c18>"
      ]
     },
     "metadata": {},
     "output_type": "display_data"
    },
    {
     "data": {
      "image/png": "[encoded data removed]",
      "text/plain": [
       "<matplotlib.figure.Figure at 0x7f565c0cfda0>"
      ]
     },
     "metadata": {},
     "output_type": "display_data"
    },
    {
     "name": "stdout",
     "output_type": "stream",
     "text": [
      "4 4\n"
     ]
    },
    {
     "data": {
      "image/png": "[encoded data removed]",
      "text/plain": [
       "<matplotlib.figure.Figure at 0x7f563467e240>"
      ]
     },
     "metadata": {},
     "output_type": "display_data"
    },
    {
     "data": {
      "image/png": "[encoded data removed]",
      "text/plain": [
       "<matplotlib.figure.Figure at 0x7f5634a8ff28>"
      ]
     },
     "metadata": {},
     "output_type": "display_data"
    },
    {
     "name": "stdout",
     "output_type": "stream",
     "text": [
      "9 9\n"
     ]
    },
    {
     "data": {
      "image/png": "[encoded data removed]",
      "text/plain": [
       "<matplotlib.figure.Figure at 0x7f5634a4cba8>"
      ]
     },
     "metadata": {},
     "output_type": "display_data"
    },
    {
     "data": {
      "image/png": "[encoded data removed]",
      "text/plain": [
       "<matplotlib.figure.Figure at 0x7f5634727f98>"
      ]
     },
     "metadata": {},
     "output_type": "display_data"
    },
    {
     "name": "stdout",
     "output_type": "stream",
     "text": [
      "5 5\n"
     ]
    },
    {
     "data": {
      "image/png": "[encoded data removed]",
      "text/plain": [
       "<matplotlib.figure.Figure at 0x7f563470c2b0>"
      ]
     },
     "metadata": {},
     "output_type": "display_data"
    },
    {
     "data": {
      "image/png": "[encoded data removed]",
      "text/plain": [
       "<matplotlib.figure.Figure at 0x7f563473e9b0>"
      ]
     },
     "metadata": {},
     "output_type": "display_data"
    },
    {
     "name": "stdout",
     "output_type": "stream",
     "text": [
      "9 9\n"
     ]
    },
    {
     "data": {
      "image/png": "[encoded data removed]",
      "text/plain": [
       "<matplotlib.figure.Figure at 0x7f5634771240>"
      ]
     },
     "metadata": {},
     "output_type": "display_data"
    },
    {
     "data": {
      "image/png": "[encoded data removed]",
      "text/plain": [
       "<matplotlib.figure.Figure at 0x7f563471ccf8>"
      ]
     },
     "metadata": {},
     "output_type": "display_data"
    }
   ],
   "source": [
    "for i in range(10):\n",
    "    print(np.argmax(y_pred[i]), np.argmax(y_test[i]))\n",
    "    plt.imshow(X_test[i].reshape((28,28)), interpolation='nearest',cmap='gray')\n",
    "    plt.show()\n",
    "\n",
    "    plt.imshow(y_att[i].reshape((28,28)),cmap='gray')\n",
    "    plt.show()"
   ]
  }
 ],
 "metadata": {
  "kernelspec": {
   "display_name": "Python 3",
   "language": "python",
   "name": "python3"
  },
  "language_info": {
   "codemirror_mode": {
    "name": "ipython",
    "version": 3
   },
   "file_extension": ".py",
   "mimetype": "text/x-python",
   "name": "python",
   "nbconvert_exporter": "python",
   "pygments_lexer": "ipython3",
   "version": "3.5.2"
  }
 },
 "nbformat": 4,
 "nbformat_minor": 2
}
