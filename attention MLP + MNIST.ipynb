{
 "cells": [
  {
   "cell_type": "code",
   "execution_count": 1,
   "metadata": {},
   "outputs": [],
   "source": [
    "import os\n",
    "os.environ['CUDA_VISIBLE_DEVICES'] = '1'"
   ]
  },
  {
   "cell_type": "code",
   "execution_count": 2,
   "metadata": {},
   "outputs": [
    {
     "name": "stderr",
     "output_type": "stream",
     "text": [
      "/usr/local/lib/python3.5/dist-packages/h5py/__init__.py:34: FutureWarning: Conversion of the second argument of issubdtype from `float` to `np.floating` is deprecated. In future, it will be treated as `np.float64 == np.dtype(float).type`.\n",
      "  from ._conv import register_converters as _register_converters\n",
      "Using TensorFlow backend.\n"
     ]
    }
   ],
   "source": [
    "import keras\n",
    "from keras.models import Model\n",
    "from keras.layers import Input,Dense\n",
    "import numpy as np\n",
    "from IPython.display import SVG\n",
    "from keras.utils.vis_utils import model_to_dot\n",
    "import matplotlib.pyplot as plt"
   ]
  },
  {
   "cell_type": "code",
   "execution_count": 3,
   "metadata": {},
   "outputs": [],
   "source": [
    "np.random.seed(7)"
   ]
  },
  {
   "cell_type": "code",
   "execution_count": 4,
   "metadata": {},
   "outputs": [
    {
     "name": "stdout",
     "output_type": "stream",
     "text": [
      "(60000, 784) (60000, 10)\n",
      "(10000, 784) (10000, 10)\n"
     ]
    }
   ],
   "source": [
    "(X_train, y_train),(X_test,y_test) = keras.datasets.mnist.load_data()\n",
    "\n",
    "X_train = np.divide(X_train,255.).reshape((len(X_train),28*28))\n",
    "X_test = np.divide(X_test,255.).reshape((len(X_test),28*28))\n",
    "\n",
    "y_temp = list()\n",
    "for i in range(y_train.shape[0]):\n",
    "    temp = np.zeros((10,))\n",
    "    temp[y_train[i]] = 1.\n",
    "    y_temp.append(temp)\n",
    "y_train = np.array(y_temp)\n",
    "\n",
    "y_temp = list()\n",
    "for i in range(y_test.shape[0]):\n",
    "    temp = np.zeros((10,))\n",
    "    temp[y_test[i]] = 1.\n",
    "    y_temp.append(temp)\n",
    "y_test = np.array(y_temp)\n",
    "\n",
    "del y_temp\n",
    "\n",
    "print(X_train.shape,y_train.shape)\n",
    "print(X_test.shape,y_test.shape)"
   ]
  },
  {
   "cell_type": "code",
   "execution_count": 5,
   "metadata": {},
   "outputs": [
    {
     "name": "stdout",
     "output_type": "stream",
     "text": [
      "input_vector (?, 784)\n",
      "\n",
      "attention_probs (?, 784)\n",
      "attention_mul (?, 784)\n",
      "\n",
      "output_class (?, 10)\n"
     ]
    }
   ],
   "source": [
    "input_vector = Input(shape=(784,))\n",
    "print('input_vector', input_vector.shape)\n",
    "\n",
    "attention_probs = Dense(784, activation='softmax')(input_vector)\n",
    "print('\\nattention_probs',attention_probs.shape)\n",
    "attention_mul = keras.layers.multiply([input_vector, attention_probs])\n",
    "print('attention_mul',attention_mul.shape)\n",
    "\n",
    "dense = Dense(512,activation='relu')(attention_mul)\n",
    "dense = Dense(512,activation='relu')(dense)\n",
    "\n",
    "output_class = Dense(10, activation='softmax')(dense)\n",
    "print('\\noutput_class',output_class.shape)"
   ]
  },
  {
   "cell_type": "code",
   "execution_count": 6,
   "metadata": {},
   "outputs": [],
   "source": [
    "model = Model(input_vector,output_class)\n",
    "model.compile(loss='categorical_crossentropy', optimizer='adam', metrics=['acc'])"
   ]
  },
  {
   "cell_type": "code",
   "execution_count": 7,
   "metadata": {
    "scrolled": true
   },
   "outputs": [
    {
     "name": "stdout",
     "output_type": "stream",
     "text": [
      "__________________________________________________________________________________________________\n",
      "Layer (type)                    Output Shape         Param #     Connected to                     \n",
      "==================================================================================================\n",
      "input_1 (InputLayer)            (None, 784)          0                                            \n",
      "__________________________________________________________________________________________________\n",
      "dense_1 (Dense)                 (None, 784)          615440      input_1[0][0]                    \n",
      "__________________________________________________________________________________________________\n",
      "multiply_1 (Multiply)           (None, 784)          0           input_1[0][0]                    \n",
      "                                                                 dense_1[0][0]                    \n",
      "__________________________________________________________________________________________________\n",
      "dense_2 (Dense)                 (None, 512)          401920      multiply_1[0][0]                 \n",
      "__________________________________________________________________________________________________\n",
      "dense_3 (Dense)                 (None, 512)          262656      dense_2[0][0]                    \n",
      "__________________________________________________________________________________________________\n",
      "dense_4 (Dense)                 (None, 10)           5130        dense_3[0][0]                    \n",
      "==================================================================================================\n",
      "Total params: 1,285,146\n",
      "Trainable params: 1,285,146\n",
      "Non-trainable params: 0\n",
      "__________________________________________________________________________________________________\n",
      "None\n"
     ]
    },
    {
     "data": {
      "image/svg+xml": [
       "<svg height=\"410pt\" viewBox=\"0.00 0.00 164.00 410.00\" width=\"164pt\" xmlns=\"http://www.w3.org/2000/svg\" xmlns:xlink=\"http://www.w3.org/1999/xlink\">\n",
       "<g class=\"graph\" id=\"graph0\" transform=\"scale(1 1) rotate(0) translate(4 406)\">\n",
       "<title>G</title>\n",
       "<polygon fill=\"white\" points=\"-4,4 -4,-406 160,-406 160,4 -4,4\" stroke=\"none\"/>\n",
       "<!-- 139895503853104 -->\n",
       "<g class=\"node\" id=\"node1\"><title>139895503853104</title>\n",
       "<polygon fill=\"none\" points=\"27.5,-365.5 27.5,-401.5 152.5,-401.5 152.5,-365.5 27.5,-365.5\" stroke=\"black\"/>\n",
       "<text font-family=\"Times,serif\" font-size=\"14.00\" text-anchor=\"middle\" x=\"90\" y=\"-379.8\">input_1: InputLayer</text>\n",
       "</g>\n",
       "<!-- 139895503853944 -->\n",
       "<g class=\"node\" id=\"node2\"><title>139895503853944</title>\n",
       "<polygon fill=\"none\" points=\"0,-292.5 0,-328.5 102,-328.5 102,-292.5 0,-292.5\" stroke=\"black\"/>\n",
       "<text font-family=\"Times,serif\" font-size=\"14.00\" text-anchor=\"middle\" x=\"51\" y=\"-306.8\">dense_1: Dense</text>\n",
       "</g>\n",
       "<!-- 139895503853104&#45;&gt;139895503853944 -->\n",
       "<g class=\"edge\" id=\"edge1\"><title>139895503853104-&gt;139895503853944</title>\n",
       "<path d=\"M80.5592,-365.313C75.9604,-356.941 70.3336,-346.697 65.2282,-337.403\" fill=\"none\" stroke=\"black\"/>\n",
       "<polygon fill=\"black\" points=\"68.236,-335.609 60.3539,-328.529 62.1007,-338.979 68.236,-335.609\" stroke=\"black\"/>\n",
       "</g>\n",
       "<!-- 139895503853832 -->\n",
       "<g class=\"node\" id=\"node3\"><title>139895503853832</title>\n",
       "<polygon fill=\"none\" points=\"24,-219.5 24,-255.5 156,-255.5 156,-219.5 24,-219.5\" stroke=\"black\"/>\n",
       "<text font-family=\"Times,serif\" font-size=\"14.00\" text-anchor=\"middle\" x=\"90\" y=\"-233.8\">multiply_1: Multiply</text>\n",
       "</g>\n",
       "<!-- 139895503853104&#45;&gt;139895503853832 -->\n",
       "<g class=\"edge\" id=\"edge2\"><title>139895503853104-&gt;139895503853832</title>\n",
       "<path d=\"M98.7189,-365.162C103.375,-354.924 108.625,-341.549 111,-329 114.058,-312.842 114.058,-308.158 111,-292 109.293,-282.98 106.101,-273.534 102.711,-265.132\" fill=\"none\" stroke=\"black\"/>\n",
       "<polygon fill=\"black\" points=\"105.882,-263.645 98.7189,-255.838 99.45,-266.408 105.882,-263.645\" stroke=\"black\"/>\n",
       "</g>\n",
       "<!-- 139895503853944&#45;&gt;139895503853832 -->\n",
       "<g class=\"edge\" id=\"edge3\"><title>139895503853944-&gt;139895503853832</title>\n",
       "<path d=\"M60.4408,-292.313C65.0396,-283.941 70.6664,-273.697 75.7718,-264.403\" fill=\"none\" stroke=\"black\"/>\n",
       "<polygon fill=\"black\" points=\"78.8993,-265.979 80.6461,-255.529 72.764,-262.609 78.8993,-265.979\" stroke=\"black\"/>\n",
       "</g>\n",
       "<!-- 139895503854448 -->\n",
       "<g class=\"node\" id=\"node4\"><title>139895503854448</title>\n",
       "<polygon fill=\"none\" points=\"39,-146.5 39,-182.5 141,-182.5 141,-146.5 39,-146.5\" stroke=\"black\"/>\n",
       "<text font-family=\"Times,serif\" font-size=\"14.00\" text-anchor=\"middle\" x=\"90\" y=\"-160.8\">dense_2: Dense</text>\n",
       "</g>\n",
       "<!-- 139895503853832&#45;&gt;139895503854448 -->\n",
       "<g class=\"edge\" id=\"edge4\"><title>139895503853832-&gt;139895503854448</title>\n",
       "<path d=\"M90,-219.313C90,-211.289 90,-201.547 90,-192.569\" fill=\"none\" stroke=\"black\"/>\n",
       "<polygon fill=\"black\" points=\"93.5001,-192.529 90,-182.529 86.5001,-192.529 93.5001,-192.529\" stroke=\"black\"/>\n",
       "</g>\n",
       "<!-- 139895503853496 -->\n",
       "<g class=\"node\" id=\"node5\"><title>139895503853496</title>\n",
       "<polygon fill=\"none\" points=\"39,-73.5 39,-109.5 141,-109.5 141,-73.5 39,-73.5\" stroke=\"black\"/>\n",
       "<text font-family=\"Times,serif\" font-size=\"14.00\" text-anchor=\"middle\" x=\"90\" y=\"-87.8\">dense_3: Dense</text>\n",
       "</g>\n",
       "<!-- 139895503854448&#45;&gt;139895503853496 -->\n",
       "<g class=\"edge\" id=\"edge5\"><title>139895503854448-&gt;139895503853496</title>\n",
       "<path d=\"M90,-146.313C90,-138.289 90,-128.547 90,-119.569\" fill=\"none\" stroke=\"black\"/>\n",
       "<polygon fill=\"black\" points=\"93.5001,-119.529 90,-109.529 86.5001,-119.529 93.5001,-119.529\" stroke=\"black\"/>\n",
       "</g>\n",
       "<!-- 139895496245144 -->\n",
       "<g class=\"node\" id=\"node6\"><title>139895496245144</title>\n",
       "<polygon fill=\"none\" points=\"39,-0.5 39,-36.5 141,-36.5 141,-0.5 39,-0.5\" stroke=\"black\"/>\n",
       "<text font-family=\"Times,serif\" font-size=\"14.00\" text-anchor=\"middle\" x=\"90\" y=\"-14.8\">dense_4: Dense</text>\n",
       "</g>\n",
       "<!-- 139895503853496&#45;&gt;139895496245144 -->\n",
       "<g class=\"edge\" id=\"edge6\"><title>139895503853496-&gt;139895496245144</title>\n",
       "<path d=\"M90,-73.3129C90,-65.2895 90,-55.5475 90,-46.5691\" fill=\"none\" stroke=\"black\"/>\n",
       "<polygon fill=\"black\" points=\"93.5001,-46.5288 90,-36.5288 86.5001,-46.5289 93.5001,-46.5288\" stroke=\"black\"/>\n",
       "</g>\n",
       "</g>\n",
       "</svg>"
      ],
      "text/plain": [
       "<IPython.core.display.SVG object>"
      ]
     },
     "execution_count": 7,
     "metadata": {},
     "output_type": "execute_result"
    }
   ],
   "source": [
    "print(model.summary())\n",
    "SVG(model_to_dot(model).create(prog='dot',format='svg'))"
   ]
  },
  {
   "cell_type": "code",
   "execution_count": 8,
   "metadata": {},
   "outputs": [
    {
     "name": "stdout",
     "output_type": "stream",
     "text": [
      "Train on 54000 samples, validate on 6000 samples\n",
      "Epoch 1/100\n",
      "54000/54000 [==============================] - 4s 81us/step - loss: 1.9199 - acc: 0.3802 - val_loss: 0.7850 - val_acc: 0.7988\n",
      "Epoch 2/100\n",
      "54000/54000 [==============================] - 1s 11us/step - loss: 0.4740 - acc: 0.8573 - val_loss: 0.2455 - val_acc: 0.9290\n",
      "Epoch 3/100\n",
      "54000/54000 [==============================] - 1s 11us/step - loss: 0.2488 - acc: 0.9265 - val_loss: 0.1730 - val_acc: 0.9522\n",
      "Epoch 4/100\n",
      "54000/54000 [==============================] - 1s 11us/step - loss: 0.1802 - acc: 0.9476 - val_loss: 0.1437 - val_acc: 0.9592\n",
      "Epoch 5/100\n",
      "54000/54000 [==============================] - 1s 11us/step - loss: 0.1444 - acc: 0.9576 - val_loss: 0.1296 - val_acc: 0.9633\n",
      "Epoch 6/100\n",
      "54000/54000 [==============================] - 1s 12us/step - loss: 0.1203 - acc: 0.9646 - val_loss: 0.1154 - val_acc: 0.9660\n",
      "Epoch 7/100\n",
      "54000/54000 [==============================] - 1s 11us/step - loss: 0.1007 - acc: 0.9702 - val_loss: 0.1114 - val_acc: 0.9678\n",
      "Epoch 8/100\n",
      "54000/54000 [==============================] - 1s 11us/step - loss: 0.0870 - acc: 0.9751 - val_loss: 0.1119 - val_acc: 0.9682\n",
      "Epoch 9/100\n",
      "54000/54000 [==============================] - 1s 11us/step - loss: 0.0751 - acc: 0.9780 - val_loss: 0.1080 - val_acc: 0.9692\n",
      "Epoch 10/100\n",
      "54000/54000 [==============================] - 1s 11us/step - loss: 0.0647 - acc: 0.9811 - val_loss: 0.1059 - val_acc: 0.9707\n",
      "Epoch 11/100\n",
      "54000/54000 [==============================] - 1s 11us/step - loss: 0.0561 - acc: 0.9839 - val_loss: 0.1029 - val_acc: 0.9723\n",
      "Epoch 12/100\n",
      "54000/54000 [==============================] - 1s 11us/step - loss: 0.0479 - acc: 0.9862 - val_loss: 0.1074 - val_acc: 0.9715\n",
      "Epoch 13/100\n",
      "54000/54000 [==============================] - 1s 11us/step - loss: 0.0421 - acc: 0.9878 - val_loss: 0.1119 - val_acc: 0.9717\n",
      "Epoch 14/100\n",
      "54000/54000 [==============================] - 1s 11us/step - loss: 0.0371 - acc: 0.9896 - val_loss: 0.1111 - val_acc: 0.9723\n",
      "Epoch 15/100\n",
      "54000/54000 [==============================] - 1s 11us/step - loss: 0.0324 - acc: 0.9911 - val_loss: 0.1128 - val_acc: 0.9720\n",
      "Epoch 16/100\n",
      "54000/54000 [==============================] - 1s 11us/step - loss: 0.0299 - acc: 0.9916 - val_loss: 0.1193 - val_acc: 0.9710\n",
      "Epoch 17/100\n",
      "54000/54000 [==============================] - 1s 11us/step - loss: 0.0252 - acc: 0.9930 - val_loss: 0.1206 - val_acc: 0.9718\n",
      "Epoch 18/100\n",
      "54000/54000 [==============================] - 1s 11us/step - loss: 0.0222 - acc: 0.9939 - val_loss: 0.1294 - val_acc: 0.9700\n",
      "Epoch 19/100\n",
      "54000/54000 [==============================] - 1s 11us/step - loss: 0.0187 - acc: 0.9948 - val_loss: 0.1214 - val_acc: 0.9725\n",
      "Epoch 20/100\n",
      "54000/54000 [==============================] - 1s 11us/step - loss: 0.0159 - acc: 0.9960 - val_loss: 0.1328 - val_acc: 0.9717\n",
      "Epoch 21/100\n",
      "54000/54000 [==============================] - 1s 11us/step - loss: 0.0136 - acc: 0.9966 - val_loss: 0.1346 - val_acc: 0.9713\n",
      "Epoch 22/100\n",
      "54000/54000 [==============================] - 1s 11us/step - loss: 0.0113 - acc: 0.9972 - val_loss: 0.1386 - val_acc: 0.9718\n",
      "Epoch 23/100\n",
      "54000/54000 [==============================] - 1s 11us/step - loss: 0.0093 - acc: 0.9979 - val_loss: 0.1411 - val_acc: 0.9717\n",
      "Epoch 24/100\n",
      "54000/54000 [==============================] - 1s 11us/step - loss: 0.0076 - acc: 0.9984 - val_loss: 0.1441 - val_acc: 0.9733\n",
      "Epoch 25/100\n",
      "54000/54000 [==============================] - 1s 11us/step - loss: 0.0063 - acc: 0.9987 - val_loss: 0.1499 - val_acc: 0.9737\n",
      "Epoch 26/100\n",
      "54000/54000 [==============================] - 1s 11us/step - loss: 0.0054 - acc: 0.9990 - val_loss: 0.1493 - val_acc: 0.9742\n",
      "Epoch 27/100\n",
      "54000/54000 [==============================] - 1s 11us/step - loss: 0.0055 - acc: 0.9988 - val_loss: 0.1572 - val_acc: 0.9715\n",
      "Epoch 28/100\n",
      "54000/54000 [==============================] - 1s 11us/step - loss: 0.0040 - acc: 0.9994 - val_loss: 0.1558 - val_acc: 0.9738\n",
      "Epoch 29/100\n",
      "54000/54000 [==============================] - 1s 11us/step - loss: 0.0032 - acc: 0.9996 - val_loss: 0.1669 - val_acc: 0.9713\n",
      "Epoch 30/100\n",
      "54000/54000 [==============================] - 1s 12us/step - loss: 0.0026 - acc: 0.9997 - val_loss: 0.1649 - val_acc: 0.9745\n",
      "Epoch 31/100\n",
      "54000/54000 [==============================] - 1s 11us/step - loss: 0.0022 - acc: 0.9998 - val_loss: 0.1664 - val_acc: 0.9740\n",
      "Epoch 32/100\n",
      "54000/54000 [==============================] - 1s 11us/step - loss: 0.0018 - acc: 0.9998 - val_loss: 0.1715 - val_acc: 0.9740\n",
      "Epoch 33/100\n",
      "54000/54000 [==============================] - 1s 11us/step - loss: 0.0017 - acc: 0.9998 - val_loss: 0.1750 - val_acc: 0.9730\n",
      "Epoch 34/100\n",
      "54000/54000 [==============================] - 1s 11us/step - loss: 0.0019 - acc: 0.9998 - val_loss: 0.1749 - val_acc: 0.9743\n",
      "Epoch 35/100\n",
      "54000/54000 [==============================] - 1s 11us/step - loss: 0.0045 - acc: 0.9989 - val_loss: 0.1993 - val_acc: 0.9695\n",
      "Epoch 36/100\n",
      "54000/54000 [==============================] - 1s 11us/step - loss: 0.0103 - acc: 0.9974 - val_loss: 0.1926 - val_acc: 0.9695\n",
      "Epoch 37/100\n",
      "54000/54000 [==============================] - 1s 11us/step - loss: 0.0097 - acc: 0.9973 - val_loss: 0.1912 - val_acc: 0.9702\n",
      "Epoch 38/100\n",
      "54000/54000 [==============================] - 1s 11us/step - loss: 0.0096 - acc: 0.9971 - val_loss: 0.1949 - val_acc: 0.9675\n",
      "Epoch 39/100\n",
      "54000/54000 [==============================] - 1s 11us/step - loss: 0.0092 - acc: 0.9971 - val_loss: 0.1807 - val_acc: 0.9722\n",
      "Epoch 40/100\n",
      "54000/54000 [==============================] - 1s 11us/step - loss: 0.0049 - acc: 0.9986 - val_loss: 0.1765 - val_acc: 0.9705\n",
      "Epoch 41/100\n",
      "54000/54000 [==============================] - 1s 11us/step - loss: 0.0026 - acc: 0.9994 - val_loss: 0.1715 - val_acc: 0.9715\n",
      "Epoch 42/100\n",
      "54000/54000 [==============================] - 1s 11us/step - loss: 0.0013 - acc: 0.9998 - val_loss: 0.1775 - val_acc: 0.9728\n",
      "Epoch 43/100\n",
      "54000/54000 [==============================] - 1s 11us/step - loss: 9.2024e-04 - acc: 0.9999 - val_loss: 0.1811 - val_acc: 0.9715\n",
      "Epoch 44/100\n",
      "54000/54000 [==============================] - 1s 11us/step - loss: 7.4252e-04 - acc: 1.0000 - val_loss: 0.1817 - val_acc: 0.9727\n",
      "Epoch 45/100\n",
      "54000/54000 [==============================] - 1s 11us/step - loss: 6.6822e-04 - acc: 1.0000 - val_loss: 0.1833 - val_acc: 0.9720\n",
      "Epoch 46/100\n",
      "54000/54000 [==============================] - 1s 11us/step - loss: 6.3072e-04 - acc: 1.0000 - val_loss: 0.1844 - val_acc: 0.9722\n",
      "Epoch 47/100\n",
      "54000/54000 [==============================] - 1s 11us/step - loss: 5.9762e-04 - acc: 1.0000 - val_loss: 0.1863 - val_acc: 0.9718\n",
      "Epoch 48/100\n",
      "54000/54000 [==============================] - 1s 11us/step - loss: 5.7179e-04 - acc: 1.0000 - val_loss: 0.1878 - val_acc: 0.9722\n",
      "Epoch 49/100\n",
      "54000/54000 [==============================] - 1s 11us/step - loss: 5.4954e-04 - acc: 1.0000 - val_loss: 0.1886 - val_acc: 0.9720\n",
      "Epoch 50/100\n",
      "54000/54000 [==============================] - 1s 11us/step - loss: 5.2990e-04 - acc: 1.0000 - val_loss: 0.1912 - val_acc: 0.9720\n",
      "Epoch 51/100\n",
      "54000/54000 [==============================] - 1s 11us/step - loss: 5.1389e-04 - acc: 1.0000 - val_loss: 0.1913 - val_acc: 0.9722\n",
      "Epoch 52/100\n",
      "54000/54000 [==============================] - 1s 11us/step - loss: 5.0027e-04 - acc: 1.0000 - val_loss: 0.1931 - val_acc: 0.9720\n",
      "Epoch 53/100\n",
      "54000/54000 [==============================] - 1s 11us/step - loss: 4.8450e-04 - acc: 1.0000 - val_loss: 0.1934 - val_acc: 0.9722\n",
      "Epoch 54/100\n",
      "54000/54000 [==============================] - 1s 11us/step - loss: 4.7243e-04 - acc: 1.0000 - val_loss: 0.1938 - val_acc: 0.9718\n",
      "Epoch 55/100\n",
      "54000/54000 [==============================] - 1s 11us/step - loss: 4.6131e-04 - acc: 1.0000 - val_loss: 0.1958 - val_acc: 0.9722\n",
      "Epoch 56/100\n",
      "54000/54000 [==============================] - 1s 11us/step - loss: 4.5075e-04 - acc: 1.0000 - val_loss: 0.1965 - val_acc: 0.9717\n",
      "Epoch 57/100\n",
      "54000/54000 [==============================] - 1s 11us/step - loss: 4.4185e-04 - acc: 1.0000 - val_loss: 0.1969 - val_acc: 0.9718\n",
      "Epoch 58/100\n",
      "54000/54000 [==============================] - 1s 11us/step - loss: 4.3262e-04 - acc: 1.0000 - val_loss: 0.1990 - val_acc: 0.9723\n",
      "Epoch 59/100\n"
     ]
    },
    {
     "name": "stdout",
     "output_type": "stream",
     "text": [
      "54000/54000 [==============================] - 1s 11us/step - loss: 4.2495e-04 - acc: 1.0000 - val_loss: 0.1993 - val_acc: 0.9725\n",
      "Epoch 60/100\n",
      "54000/54000 [==============================] - 1s 11us/step - loss: 4.1837e-04 - acc: 1.0000 - val_loss: 0.2006 - val_acc: 0.9720\n",
      "Epoch 61/100\n",
      "54000/54000 [==============================] - 1s 11us/step - loss: 4.1138e-04 - acc: 1.0000 - val_loss: 0.2009 - val_acc: 0.9722\n",
      "Epoch 62/100\n",
      "54000/54000 [==============================] - 1s 11us/step - loss: 4.0523e-04 - acc: 1.0000 - val_loss: 0.2024 - val_acc: 0.9720\n",
      "Epoch 63/100\n",
      "54000/54000 [==============================] - 1s 11us/step - loss: 4.0001e-04 - acc: 1.0000 - val_loss: 0.2038 - val_acc: 0.9720\n",
      "Epoch 64/100\n",
      "54000/54000 [==============================] - 1s 11us/step - loss: 3.9491e-04 - acc: 1.0000 - val_loss: 0.2040 - val_acc: 0.9722\n",
      "Epoch 65/100\n",
      "54000/54000 [==============================] - 1s 11us/step - loss: 3.8978e-04 - acc: 1.0000 - val_loss: 0.2041 - val_acc: 0.9723\n",
      "Epoch 66/100\n",
      "54000/54000 [==============================] - 1s 12us/step - loss: 3.8475e-04 - acc: 1.0000 - val_loss: 0.2058 - val_acc: 0.9722\n",
      "Epoch 67/100\n",
      "54000/54000 [==============================] - 1s 11us/step - loss: 3.8174e-04 - acc: 1.0000 - val_loss: 0.2059 - val_acc: 0.9727\n",
      "Epoch 68/100\n",
      "54000/54000 [==============================] - 1s 11us/step - loss: 3.7654e-04 - acc: 1.0000 - val_loss: 0.2071 - val_acc: 0.9723\n",
      "Epoch 69/100\n",
      "54000/54000 [==============================] - 1s 11us/step - loss: 3.7271e-04 - acc: 1.0000 - val_loss: 0.2079 - val_acc: 0.9723\n",
      "Epoch 70/100\n",
      "54000/54000 [==============================] - 1s 11us/step - loss: 3.6905e-04 - acc: 1.0000 - val_loss: 0.2082 - val_acc: 0.9722\n",
      "Epoch 71/100\n",
      "54000/54000 [==============================] - 1s 11us/step - loss: 3.6605e-04 - acc: 1.0000 - val_loss: 0.2090 - val_acc: 0.9722\n",
      "Epoch 72/100\n",
      "54000/54000 [==============================] - 1s 11us/step - loss: 3.6291e-04 - acc: 1.0000 - val_loss: 0.2100 - val_acc: 0.9725\n",
      "Epoch 73/100\n",
      "54000/54000 [==============================] - 1s 11us/step - loss: 3.6016e-04 - acc: 1.0000 - val_loss: 0.2099 - val_acc: 0.9727\n",
      "Epoch 74/100\n",
      "54000/54000 [==============================] - 1s 11us/step - loss: 3.5697e-04 - acc: 1.0000 - val_loss: 0.2111 - val_acc: 0.9723\n",
      "Epoch 75/100\n",
      "54000/54000 [==============================] - 1s 11us/step - loss: 3.5483e-04 - acc: 1.0000 - val_loss: 0.2118 - val_acc: 0.9727\n",
      "Epoch 76/100\n",
      "54000/54000 [==============================] - 1s 11us/step - loss: 3.5191e-04 - acc: 1.0000 - val_loss: 0.2125 - val_acc: 0.9725\n",
      "Epoch 77/100\n",
      "54000/54000 [==============================] - 1s 11us/step - loss: 3.4979e-04 - acc: 1.0000 - val_loss: 0.2127 - val_acc: 0.9723\n",
      "Epoch 78/100\n",
      "54000/54000 [==============================] - 1s 11us/step - loss: 3.4745e-04 - acc: 1.0000 - val_loss: 0.2136 - val_acc: 0.9727\n",
      "Epoch 79/100\n",
      "54000/54000 [==============================] - 1s 11us/step - loss: 3.4532e-04 - acc: 1.0000 - val_loss: 0.2137 - val_acc: 0.9727\n",
      "Epoch 80/100\n",
      "54000/54000 [==============================] - 1s 11us/step - loss: 3.4334e-04 - acc: 1.0000 - val_loss: 0.2146 - val_acc: 0.9727\n",
      "Epoch 81/100\n",
      "54000/54000 [==============================] - 1s 11us/step - loss: 3.4142e-04 - acc: 1.0000 - val_loss: 0.2151 - val_acc: 0.9725\n",
      "Epoch 82/100\n",
      "54000/54000 [==============================] - 1s 11us/step - loss: 3.3956e-04 - acc: 1.0000 - val_loss: 0.2157 - val_acc: 0.9725\n",
      "Epoch 83/100\n",
      "54000/54000 [==============================] - 1s 12us/step - loss: 3.3791e-04 - acc: 1.0000 - val_loss: 0.2163 - val_acc: 0.9725\n",
      "Epoch 84/100\n",
      "54000/54000 [==============================] - 1s 11us/step - loss: 3.3623e-04 - acc: 1.0000 - val_loss: 0.2166 - val_acc: 0.9725\n",
      "Epoch 85/100\n",
      "54000/54000 [==============================] - 1s 11us/step - loss: 3.3473e-04 - acc: 1.0000 - val_loss: 0.2173 - val_acc: 0.9723\n",
      "Epoch 86/100\n",
      "54000/54000 [==============================] - 1s 11us/step - loss: 3.3328e-04 - acc: 1.0000 - val_loss: 0.2181 - val_acc: 0.9725\n",
      "Epoch 87/100\n",
      "54000/54000 [==============================] - 1s 11us/step - loss: 3.3194e-04 - acc: 1.0000 - val_loss: 0.2185 - val_acc: 0.9725\n",
      "Epoch 88/100\n",
      "54000/54000 [==============================] - 1s 12us/step - loss: 3.3047e-04 - acc: 1.0000 - val_loss: 0.2190 - val_acc: 0.9725\n",
      "Epoch 89/100\n",
      "54000/54000 [==============================] - 1s 11us/step - loss: 3.2922e-04 - acc: 1.0000 - val_loss: 0.2196 - val_acc: 0.9723\n",
      "Epoch 90/100\n",
      "54000/54000 [==============================] - 1s 11us/step - loss: 3.2802e-04 - acc: 1.0000 - val_loss: 0.2200 - val_acc: 0.9725\n",
      "Epoch 91/100\n",
      "54000/54000 [==============================] - 1s 11us/step - loss: 3.2687e-04 - acc: 1.0000 - val_loss: 0.2208 - val_acc: 0.9723\n",
      "Epoch 92/100\n",
      "54000/54000 [==============================] - 1s 11us/step - loss: 3.2576e-04 - acc: 1.0000 - val_loss: 0.2210 - val_acc: 0.9723\n",
      "Epoch 93/100\n",
      "54000/54000 [==============================] - 1s 12us/step - loss: 3.2477e-04 - acc: 1.0000 - val_loss: 0.2217 - val_acc: 0.9725\n",
      "Epoch 94/100\n",
      "54000/54000 [==============================] - 1s 11us/step - loss: 3.2371e-04 - acc: 1.0000 - val_loss: 0.2221 - val_acc: 0.9722\n",
      "Epoch 95/100\n",
      "54000/54000 [==============================] - 1s 11us/step - loss: 3.2267e-04 - acc: 1.0000 - val_loss: 0.2228 - val_acc: 0.9723\n",
      "Epoch 96/100\n",
      "54000/54000 [==============================] - 1s 11us/step - loss: 3.2184e-04 - acc: 1.0000 - val_loss: 0.2225 - val_acc: 0.9723\n",
      "Epoch 97/100\n",
      "54000/54000 [==============================] - 1s 11us/step - loss: 3.2095e-04 - acc: 1.0000 - val_loss: 0.2237 - val_acc: 0.9723\n",
      "Epoch 98/100\n",
      "54000/54000 [==============================] - 1s 11us/step - loss: 3.2007e-04 - acc: 1.0000 - val_loss: 0.2241 - val_acc: 0.9723\n",
      "Epoch 99/100\n",
      "54000/54000 [==============================] - 1s 11us/step - loss: 3.1925e-04 - acc: 1.0000 - val_loss: 0.2244 - val_acc: 0.9722\n",
      "Epoch 100/100\n",
      "54000/54000 [==============================] - 1s 11us/step - loss: 3.1848e-04 - acc: 1.0000 - val_loss: 0.2249 - val_acc: 0.9723\n"
     ]
    }
   ],
   "source": [
    "history = model.fit(X_train,y_train,batch_size=1024,epochs=100,verbose=1,validation_split=0.1)"
   ]
  },
  {
   "cell_type": "code",
   "execution_count": 9,
   "metadata": {},
   "outputs": [
    {
     "data": {
      "image/png": "[encoded data removed]",
      "text/plain": [
       "<matplotlib.figure.Figure at 0x7f3c58921208>"
      ]
     },
     "metadata": {},
     "output_type": "display_data"
    }
   ],
   "source": [
    "plt.plot(history.history['loss'])\n",
    "plt.plot(history.history['val_loss'])\n",
    "plt.ylabel('loss')\n",
    "plt.xlabel('epoch')\n",
    "plt.legend(['train','valid'])\n",
    "plt.show()"
   ]
  },
  {
   "cell_type": "code",
   "execution_count": 10,
   "metadata": {},
   "outputs": [
    {
     "name": "stdout",
     "output_type": "stream",
     "text": [
      "(10000, 10)\n"
     ]
    }
   ],
   "source": [
    "y_pred = model.predict(X_test)\n",
    "print(y_pred.shape)"
   ]
  },
  {
   "cell_type": "code",
   "execution_count": 11,
   "metadata": {},
   "outputs": [
    {
     "name": "stdout",
     "output_type": "stream",
     "text": [
      "acc\n",
      "0.9695\n"
     ]
    }
   ],
   "source": [
    "print('acc')\n",
    "acc = 0\n",
    "for i in range(len(y_pred)):\n",
    "    if np.argmax(y_pred[i]) == np.argmax(y_test[i]):\n",
    "        acc += 1\n",
    "        \n",
    "print(acc / len(y_pred))"
   ]
  },
  {
   "cell_type": "code",
   "execution_count": 12,
   "metadata": {},
   "outputs": [],
   "source": [
    "attention_model = Model(input_vector, attention_probs)"
   ]
  },
  {
   "cell_type": "code",
   "execution_count": 13,
   "metadata": {
    "scrolled": false
   },
   "outputs": [],
   "source": [
    "y_att = attention_model.predict(X_test)"
   ]
  },
  {
   "cell_type": "code",
   "execution_count": 14,
   "metadata": {
    "scrolled": false
   },
   "outputs": [
    {
     "name": "stdout",
     "output_type": "stream",
     "text": [
      "7 7\n"
     ]
    },
    {
     "data": {
      "image/png": "[encoded data removed]",
      "text/plain": [
       "<matplotlib.figure.Figure at 0x7f3c5893fcf8>"
      ]
     },
     "metadata": {},
     "output_type": "display_data"
    },
    {
     "data": {
      "image/png": "[encoded data removed]",
      "text/plain": [
       "<matplotlib.figure.Figure at 0x7f3c58822b70>"
      ]
     },
     "metadata": {},
     "output_type": "display_data"
    },
    {
     "name": "stdout",
     "output_type": "stream",
     "text": [
      "2 2\n"
     ]
    },
    {
     "data": {
      "image/png": "[encoded data removed]",
      "text/plain": [
       "<matplotlib.figure.Figure at 0x7f3bf593ff60>"
      ]
     },
     "metadata": {},
     "output_type": "display_data"
    },
    {
     "data": {
      "image/png": "[encoded data removed]",
      "text/plain": [
       "<matplotlib.figure.Figure at 0x7f3c58898f98>"
      ]
     },
     "metadata": {},
     "output_type": "display_data"
    },
    {
     "name": "stdout",
     "output_type": "stream",
     "text": [
      "1 1\n"
     ]
    },
    {
     "data": {
      "image/png": "[encoded data removed]",
      "text/plain": [
       "<matplotlib.figure.Figure at 0x7f3c589a7b00>"
      ]
     },
     "metadata": {},
     "output_type": "display_data"
    },
    {
     "data": {
      "image/png": "[encoded data removed]",
      "text/plain": [
       "<matplotlib.figure.Figure at 0x7f3bf591bb70>"
      ]
     },
     "metadata": {},
     "output_type": "display_data"
    },
    {
     "name": "stdout",
     "output_type": "stream",
     "text": [
      "0 0\n"
     ]
    },
    {
     "data": {
      "image/png": "[encoded data removed]",
      "text/plain": [
       "<matplotlib.figure.Figure at 0x7f3bf2d78550>"
      ]
     },
     "metadata": {},
     "output_type": "display_data"
    },
    {
     "data": {
      "image/png": "[encoded data removed]",
      "text/plain": [
       "<matplotlib.figure.Figure at 0x7f3bf58a6b70>"
      ]
     },
     "metadata": {},
     "output_type": "display_data"
    },
    {
     "name": "stdout",
     "output_type": "stream",
     "text": [
      "4 4\n"
     ]
    },
    {
     "data": {
      "image/png": "[encoded data removed]",
      "text/plain": [
       "<matplotlib.figure.Figure at 0x7f3bf2d49e10>"
      ]
     },
     "metadata": {},
     "output_type": "display_data"
    },
    {
     "data": {
      "image/png": "[encoded data removed]",
      "text/plain": [
       "<matplotlib.figure.Figure at 0x7f3c58913748>"
      ]
     },
     "metadata": {},
     "output_type": "display_data"
    },
    {
     "name": "stdout",
     "output_type": "stream",
     "text": [
      "1 1\n"
     ]
    },
    {
     "data": {
      "image/png": "[encoded data removed]",
      "text/plain": [
       "<matplotlib.figure.Figure at 0x7f3c58916710>"
      ]
     },
     "metadata": {},
     "output_type": "display_data"
    },
    {
     "data": {
      "image/png": "[encoded data removed]",
      "text/plain": [
       "<matplotlib.figure.Figure at 0x7f3bf2d34eb8>"
      ]
     },
     "metadata": {},
     "output_type": "display_data"
    },
    {
     "name": "stdout",
     "output_type": "stream",
     "text": [
      "4 4\n"
     ]
    },
    {
     "data": {
      "image/png": "[encoded data removed]",
      "text/plain": [
       "<matplotlib.figure.Figure at 0x7f3c58912160>"
      ]
     },
     "metadata": {},
     "output_type": "display_data"
    },
    {
     "data": {
      "image/png": "[encoded data removed]",
      "text/plain": [
       "<matplotlib.figure.Figure at 0x7f3bf2d083c8>"
      ]
     },
     "metadata": {},
     "output_type": "display_data"
    },
    {
     "name": "stdout",
     "output_type": "stream",
     "text": [
      "9 9\n"
     ]
    },
    {
     "data": {
      "image/png": "[encoded data removed]",
      "text/plain": [
       "<matplotlib.figure.Figure at 0x7f3bf58d9358>"
      ]
     },
     "metadata": {},
     "output_type": "display_data"
    },
    {
     "data": {
      "image/png": "[encoded data removed]",
      "text/plain": [
       "<matplotlib.figure.Figure at 0x7f3bf586f390>"
      ]
     },
     "metadata": {},
     "output_type": "display_data"
    },
    {
     "name": "stdout",
     "output_type": "stream",
     "text": [
      "8 5\n"
     ]
    },
    {
     "data": {
      "image/png": "[encoded data removed]",
      "text/plain": [
       "<matplotlib.figure.Figure at 0x7f3bf58af4a8>"
      ]
     },
     "metadata": {},
     "output_type": "display_data"
    },
    {
     "data": {
      "image/png": "[encoded data removed]",
      "text/plain": [
       "<matplotlib.figure.Figure at 0x7f3bf2c8ef28>"
      ]
     },
     "metadata": {},
     "output_type": "display_data"
    },
    {
     "name": "stdout",
     "output_type": "stream",
     "text": [
      "9 9\n"
     ]
    },
    {
     "data": {
      "image/png": "[encoded data removed]",
      "text/plain": [
       "<matplotlib.figure.Figure at 0x7f3bf2cac390>"
      ]
     },
     "metadata": {},
     "output_type": "display_data"
    },
    {
     "data": {
      "image/png": "[encoded data removed]",
      "text/plain": [
       "<matplotlib.figure.Figure at 0x7f3bf2ca66a0>"
      ]
     },
     "metadata": {},
     "output_type": "display_data"
    }
   ],
   "source": [
    "for i in range(10):\n",
    "    print(np.argmax(y_pred[i]), np.argmax(y_test[i]))\n",
    "    plt.imshow(X_test[i].reshape((28,28)), interpolation='nearest',cmap='gray')\n",
    "    plt.show()\n",
    "\n",
    "    plt.imshow(y_att[i].reshape((28,28)),cmap='gray')\n",
    "    plt.show()"
   ]
  }
 ],
 "metadata": {
  "kernelspec": {
   "display_name": "Python 3",
   "language": "python",
   "name": "python3"
  },
  "language_info": {
   "codemirror_mode": {
    "name": "ipython",
    "version": 3
   },
   "file_extension": ".py",
   "mimetype": "text/x-python",
   "name": "python",
   "nbconvert_exporter": "python",
   "pygments_lexer": "ipython3",
   "version": "3.5.2"
  }
 },
 "nbformat": 4,
 "nbformat_minor": 2
}
